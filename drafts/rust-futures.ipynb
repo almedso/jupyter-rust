{
 "cells": [
  {
   "cell_type": "markdown",
   "metadata": {},
   "source": [
    "# Rust Futures Explained"
   ]
  },
  {
   "cell_type": "code",
   "execution_count": 2,
   "metadata": {},
   "outputs": [
    {
     "data": {
      "text/plain": [
       "sccache: true\n"
      ]
     },
     "execution_count": 2,
     "metadata": {},
     "output_type": "execute_result"
    }
   ],
   "source": [
    ":sccache 1\n",
    ":dep futures = \"0.3.*\"\n",
    ":dep tokio = {version = \"0.3.3\", features = [\"full\"] }\n",
    ":dep env_logger = \"0.8.3\"\n",
    ":dep log = \"0.4.*\"\n",
    ":dep chrono = \"0.4.19\""
   ]
  },
  {
   "cell_type": "code",
   "execution_count": 3,
   "metadata": {
    "jupyter": {
     "source_hidden": true
    }
   },
   "outputs": [],
   "source": [
    "// Arbitrary logger just to show output with timestamps to illustrate timing behavior of futures\n",
    "use std::io::Write;\n",
    "use chrono::Local;\n",
    "use env_logger::Builder;\n",
    "use log::LevelFilter;\n",
    "\n",
    "fn config_logger() {\n",
    "    Builder::new()\n",
    "        .format(|buf, record| {\n",
    "            writeln!(buf,\n",
    "                \"{} [{}] - {}\",\n",
    "                Local::now().format(\"%H:%M:%S%.3f\"),\n",
    "                record.level(),\n",
    "                record.args()\n",
    "            )\n",
    "        })\n",
    "        .filter(None, LevelFilter::Debug)\n",
    "        .init();\n",
    "}\n"
   ]
  },
  {
   "cell_type": "code",
   "execution_count": 4,
   "metadata": {},
   "outputs": [],
   "source": [
    "use futures::prelude::*;\n",
    "use tokio::prelude::*;\n",
    "config_logger();"
   ]
  },
  {
   "cell_type": "markdown",
   "metadata": {},
   "source": [
    "## Intro\n",
    "\n",
    "Rust **Futures** are pending or completed (like any other futures).\n",
    "Rust **Futures** trait requires a poll function to be implemented.\n",
    "\n",
    "```\n",
    "trait SimpleFuture {\n",
    "    type Output;\n",
    "    fn poll(&mut self, wake: fn()) -> Poll<Self::Output>;\n",
    "}\n",
    "\n",
    "enum Poll<T> {\n",
    "    Ready(T),\n",
    "    Pending,\n",
    "}\n",
    "```\n",
    "From:\n",
    "https://rust-lang.github.io/async-book/02_execution/02_future.html\n",
    "\n",
    "Futures can be advanced by calling the poll function, which will drive the future as far towards completion as possible. If the future completes, it returns Poll::Ready(result). If the future is not able to complete yet, it returns Poll::Pending and arranges for the wake() function to be called when the Future is ready to make more progress. When wake() is called, the executor driving the Future will call poll again so that the Future can make more progress."
   ]
  },
  {
   "cell_type": "code",
   "execution_count": null,
   "metadata": {},
   "outputs": [
    {
     "name": "stderr",
     "output_type": "stream",
     "text": [
      "22:38:11.159 [DEBUG] - future: Ready(Some(Ok(\"hello\")))\n",
      "22:38:11.159 [DEBUG] - future: Ok(\"hello\")\n"
     ]
    }
   ],
   "source": [
    "config_logger();  // needs to be called every block again\n",
    "// Note: The return type with impl Future... is a short hand for \n",
    "// the type that is returned\n",
    "\n",
    "// This future immideately completes. i.e. it advances directly to comletion\n",
    "fn simple_ok_future() -> impl Future<Output = Result<String, ()>> {\n",
    "    use futures::Future;\n",
    "    use futures::future::ok;\n",
    "    \n",
    "    // Here I specify the type of the error as (); otherwise the compiler can't infer it\n",
    "    let future = ok::<_, ()>(String::from(\"hello\"));\n",
    "    log::debug!(\"future: {:?}\", future);\n",
    "    future\n",
    "}\n",
    "let mut rt = tokio::runtime::Runtime::new().unwrap();\n",
    "let result = rt.block_on(simple_ok_future());  // we need to poll a future or block on it.\n",
    "log::debug!(\"future: {:?}\", result); \n"
   ]
  },
  {
   "cell_type": "markdown",
   "metadata": {},
   "source": [
    "## future::lazy\n",
    "\n",
    "https://docs.rs/futures/0.2.1/futures/future/fn.lazy.html\n",
    "https://stackoverflow.com/questions/56544469/what-is-futuresfuturelazy-for\n",
    "\n",
    "Like a plain closure, it's used to prevent code from being eagerly evaluated. In synchronous terms, it's the difference between calling a function and calling the closure that the function returned"
   ]
  },
  {
   "cell_type": "code",
   "execution_count": 5,
   "metadata": {},
   "outputs": [
    {
     "name": "stderr",
     "output_type": "stream",
     "text": [
      "22:42:40.314 [INFO] - This is run when the function is called\n",
      "22:42:40.315 [INFO] - Called the function\n",
      "22:42:40.315 [INFO] - This is run when the return value is called\n"
     ]
    },
    {
     "data": {
      "text/plain": [
       "()"
      ]
     },
     "execution_count": 5,
     "metadata": {},
     "output_type": "execute_result"
    }
   ],
   "source": [
    "config_logger();\n",
    "fn sync() -> impl FnOnce() {\n",
    "    log::info!(\"This is run when the function is called\");\n",
    "    \n",
    "    || log::info!(\"This is run when the return value is called\")\n",
    "}\n",
    "\n",
    "fn main() {\n",
    "    let a = sync();\n",
    "    log::info!(\"Called the function\");\n",
    "    a();\n",
    "}\n",
    "main()"
   ]
  },
  {
   "cell_type": "code",
   "execution_count": null,
   "metadata": {},
   "outputs": [
    {
     "name": "stderr",
     "output_type": "stream",
     "text": [
      "22:58:17.880 [DEBUG] - in async_capture, x => 42\n",
      "22:58:17.880 [DEBUG] - Result: 42\n"
     ]
    }
   ],
   "source": [
    "config_logger();\n",
    "let x = 42;\n",
    "let mut rt = tokio::runtime::Runtime::new().unwrap();\n",
    "// note: a future::lazy cannot be assigned to a var in notebook\n",
    "// the rust jupyter kernel cannot persist this data type\n",
    "// so we put it into the block_on as parameter directly\n",
    "let result = rt.block_on(future::lazy(|_| {\n",
    "    log::debug!(\"in async block, x => {}\", x);\n",
    "    x\n",
    "}));\n",
    "log::debug!(\"Result: {:?}\", result); "
   ]
  },
  {
   "cell_type": "markdown",
   "metadata": {},
   "source": [
    "## Summary\n",
    "\n",
    "* future::lazy like eval of a closure (a Lazy struct that implments a Future)\n",
    "* whereby the closure itself is returned by a function (that is the future::lazy call"
   ]
  },
  {
   "cell_type": "markdown",
   "metadata": {},
   "source": [
    "# Tokyo Runtime\n",
    "\n",
    "https://levelup.gitconnected.com/demystifying-closures-futures-and-async-await-in-rust-part-2-futures-abe95ab332a2\n",
    "\n",
    "* enter - quick and dirty\n",
    "* spawn - put in more\n",
    "* block_on - wait/ block until the future completes (might block forever?"
   ]
  },
  {
   "cell_type": "code",
   "execution_count": null,
   "metadata": {},
   "outputs": [],
   "source": []
  }
 ],
 "metadata": {
  "kernelspec": {
   "display_name": "Rust",
   "language": "rust",
   "name": "rust"
  },
  "language_info": {
   "codemirror_mode": "rust",
   "file_extension": ".rs",
   "mimetype": "text/rust",
   "name": "Rust",
   "pygment_lexer": "rust",
   "version": ""
  }
 },
 "nbformat": 4,
 "nbformat_minor": 4
}
