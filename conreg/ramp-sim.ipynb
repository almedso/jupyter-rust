{
 "cells": [
  {
   "cell_type": "markdown",
   "metadata": {
    "slideshow": {
     "slide_type": "slide"
    }
   },
   "source": [
    "# Ramp\n",
    "\n",
    "Why a Ramp? \n",
    "\n",
    "* no spilling (jerk limit)\n",
    "* less physical stress (acceleration limit, jerk limit)\n",
    "* less crash demage danger (speed limit)\n",
    "\n",
    "Watch [S-shape ramp and trapezoidal ramp](http://www.youtube.com/watch?v=qYJpl7SNoww).\n",
    "Thanks to Trinamic for visualization"
   ]
  },
  {
   "cell_type": "code",
   "execution_count": null,
   "metadata": {
    "slideshow": {
     "slide_type": "slide"
    }
   },
   "outputs": [],
   "source": [
    ":dep plotters = { git = \"https://github.com/38/plotters\", default_features = false, features = [\"evcxr\", \"all_series\", \"all_elements\"] }\n",
    ":dep conreg = { git = \"https://github.com/almedso/conreg\", default_features = false, features = [\"std\"] }\n",
    ":sccache = 1"
   ]
  },
  {
   "cell_type": "code",
   "execution_count": null,
   "metadata": {
    "slideshow": {
     "slide_type": "fragment"
    }
   },
   "outputs": [],
   "source": [
    "use conreg::regulation::ramp::{Ramp, GeneralizedPosition, RampConstraints};\n",
    "use std::iter;\n",
    "use plotters::prelude::*;\n",
    "use plotters::prelude::LineSeries;"
   ]
  },
  {
   "cell_type": "markdown",
   "metadata": {
    "slideshow": {
     "slide_type": "slide"
    }
   },
   "source": [
    "# Plot for position ramp\n",
    "\n",
    "Move to target position and arrive as soon as possible while maintaining speed, acceleration and jerk limits.\n",
    "\n",
    "* trapezoidal shape ramp: (speed limit, acceleration limit)\n",
    "* s-shape ramp: (speed limit, acceleration limit, jerk limit)\n",
    "\n",
    "Examples:\n",
    "\n",
    "* Pick and place robot\n",
    "* Control a temperature profile (open jerk)"
   ]
  },
  {
   "cell_type": "code",
   "execution_count": null,
   "metadata": {
    "slideshow": {
     "slide_type": "slide"
    }
   },
   "outputs": [],
   "source": [
    "let sample_interval = 0.001_f32;  // in seconds\n",
    "// Instanciate and configure the ramp\n",
    "let mut r = Ramp::new(sample_interval,\n",
    "    RampConstraints::default()\n",
    "        .max_speed(2.0)\n",
    "        .max_acceleration(1.0)\n",
    "        .max_jerk(1.0)\n",
    "    );\n",
    "r.set(GeneralizedPosition::new(5.0));\n",
    "r.set_target_relative_position(-5.0);\n",
    "println!(\"Ramp: {:?}\", r);"
   ]
  },
  {
   "cell_type": "code",
   "execution_count": null,
   "metadata": {
    "slideshow": {
     "slide_type": "subslide"
    }
   },
   "outputs": [],
   "source": [
    "let time_range = 7.0_f32;  // in seconds\n",
    "let i_range = (time_range / sample_interval ) as usize;\n",
    "// Run the ramp \n",
    "let gp = r.take(i_range).collect::<Vec<GeneralizedPosition>>();"
   ]
  },
  {
   "cell_type": "code",
   "execution_count": null,
   "metadata": {
    "slideshow": {
     "slide_type": "subslide"
    }
   },
   "outputs": [],
   "source": [
    "// Extract position, speed and acceleration from generalized parameters for plotting\n",
    "let p = gp.clone().iter().map(|x| x.position).collect::<Vec<f32>>();\n",
    "let s = gp.clone().iter().map(|x| x.speed).collect::<Vec<f32>>();\n",
    "let a = gp.clone().iter().map(|x| x.acceleration).collect::<Vec<f32>>();\n",
    "\n",
    "// Prepare the plot\n",
    "let figure = evcxr_figure((640, 480), |root| {\n",
    "    root.fill(&WHITE);\n",
    "    let mut chart = ChartBuilder::on(&root)\n",
    "        .caption(\"Position/speed/acceleration time diagram\", (\"Arial\", 24).into_font())\n",
    "        .margin(5)\n",
    "        .x_label_area_size(30)\n",
    "        .y_label_area_size(30)\n",
    "        .build_cartesian_2d(0.0f32..time_range, -5.0f32..5.0f32)?;\n",
    "\n",
    "    chart.configure_mesh().draw()?;\n",
    "\n",
    "    chart.draw_series(LineSeries::new(\n",
    "        (0..=i_range).map(|x| ( x as f32 * sample_interval)).zip(p),\n",
    "        &GREEN,\n",
    "    )).unwrap()\n",
    "        .label(\"Position\")\n",
    "        .legend(|(x,y)| PathElement::new(vec![(x,y), (x + 20,y)], &GREEN));\n",
    "    chart.draw_series(LineSeries::new(\n",
    "        (0..=i_range).map(|x| ( x as f32 * sample_interval)).zip(s),\n",
    "        &RED,\n",
    "    )).unwrap()\n",
    "        .label(\"Velocity\")\n",
    "        .legend(|(x,y)| PathElement::new(vec![(x,y), (x + 20,y)], &RED));\n",
    "    chart.draw_series(LineSeries::new(\n",
    "        (0..=i_range).map(|x| ( x as f32 * sample_interval)).zip(a),\n",
    "        &BLUE,\n",
    "    )).unwrap()\n",
    "        .label(\"Acceleration\")\n",
    "        .legend(|(x,y)| PathElement::new(vec![(x,y), (x + 20,y)], &BLUE));\n",
    "\n",
    "    chart.configure_series_labels()\n",
    "        .background_style(&WHITE.mix(0.8))\n",
    "        .border_style(&BLACK)\n",
    "        .position(SeriesLabelPosition::UpperRight)\n",
    "        .draw()?;\n",
    "    Ok(())\n",
    "});"
   ]
  },
  {
   "cell_type": "code",
   "execution_count": null,
   "metadata": {
    "slideshow": {
     "slide_type": "subslide"
    }
   },
   "outputs": [],
   "source": [
    "// Show the ramp plot\n",
    "figure"
   ]
  },
  {
   "cell_type": "markdown",
   "metadata": {
    "slideshow": {
     "slide_type": "slide"
    }
   },
   "source": [
    "# Plot of speed ramp\n",
    "\n",
    "... if you want to move at a constant speed and maintain the speed open end and softly accelerate. \n",
    "\n",
    "Examples:\n",
    "\n",
    "* cruise control in cars"
   ]
  },
  {
   "cell_type": "code",
   "execution_count": null,
   "metadata": {
    "slideshow": {
     "slide_type": "slide"
    }
   },
   "outputs": [],
   "source": [
    "let sample_interval = 0.001_f32;  // in seconds\n",
    "// Instanciate and configure the ramp\n",
    "let mut r = Ramp::new(sample_interval,\n",
    "    RampConstraints::default()\n",
    "        .max_speed(2.0)\n",
    "        .max_acceleration(1.0)\n",
    "        .max_jerk(1.0));\n",
    "let gp = GeneralizedPosition {position: 0.0, speed: 2.0, acceleration: 0.0 };\n",
    "r.set(gp);\n",
    "r.set_target_speed(-1.0);\n",
    "println!(\"Ramp: {:?}\", r);"
   ]
  },
  {
   "cell_type": "code",
   "execution_count": null,
   "metadata": {
    "slideshow": {
     "slide_type": "subslide"
    }
   },
   "outputs": [],
   "source": [
    "let time_range = 5.0_f32;  // in seconds\n",
    "let i_range = (time_range / sample_interval ) as usize;\n",
    "// Run the ramp \n",
    "let gp = r.take(i_range).collect::<Vec<GeneralizedPosition>>();"
   ]
  },
  {
   "cell_type": "code",
   "execution_count": null,
   "metadata": {
    "slideshow": {
     "slide_type": "subslide"
    }
   },
   "outputs": [],
   "source": [
    "// Extract position, speed and acceleration from generalized parameters for plotting\n",
    "let s = gp.clone().iter().map(|x| x.speed).collect::<Vec<f32>>();\n",
    "let a = gp.clone().iter().map(|x| x.acceleration).collect::<Vec<f32>>();\n",
    "\n",
    "// Prepare the plot\n",
    "let figure = evcxr_figure((640, 480), |root| {\n",
    "    root.fill(&WHITE);\n",
    "    let mut chart = ChartBuilder::on(&root)\n",
    "        .caption(\"Position/speed/acceleration time diagram\", (\"Arial\", 24).into_font())\n",
    "        .margin(5)\n",
    "        .x_label_area_size(30)\n",
    "        .y_label_area_size(30)\n",
    "        .build_cartesian_2d(0.0f32..time_range, -1.0f32..2.0f32)?;\n",
    "\n",
    "    chart.configure_mesh().draw()?;\n",
    "\n",
    "    chart.draw_series(LineSeries::new(\n",
    "        (0..=i_range).map(|x| ( x as f32 * sample_interval)).zip(s),\n",
    "        &RED,\n",
    "    )).unwrap()\n",
    "        .label(\"Velocity\")\n",
    "        .legend(|(x,y)| PathElement::new(vec![(x,y), (x + 20,y)], &RED));\n",
    "    chart.draw_series(LineSeries::new(\n",
    "        (0..=i_range).map(|x| ( x as f32 * sample_interval)).zip(a),\n",
    "        &BLUE,\n",
    "    )).unwrap()\n",
    "        .label(\"Acceleration\")\n",
    "        .legend(|(x,y)| PathElement::new(vec![(x,y), (x + 20,y)], &BLUE));\n",
    "\n",
    "\n",
    "    chart.configure_series_labels()\n",
    "        .background_style(&WHITE.mix(0.8))\n",
    "        .border_style(&BLACK)\n",
    "        .draw()?;\n",
    "    Ok(())\n",
    "});"
   ]
  },
  {
   "cell_type": "code",
   "execution_count": null,
   "metadata": {
    "slideshow": {
     "slide_type": "subslide"
    }
   },
   "outputs": [],
   "source": [
    "figure"
   ]
  }
 ],
 "metadata": {
  "celltoolbar": "Slideshow",
  "kernelspec": {
   "display_name": "Rust",
   "language": "rust",
   "name": "rust"
  },
  "language_info": {
   "codemirror_mode": "rust",
   "file_extension": ".rs",
   "mimetype": "text/rust",
   "name": "Rust",
   "pygment_lexer": "rust",
   "version": ""
  }
 },
 "nbformat": 4,
 "nbformat_minor": 4
}
