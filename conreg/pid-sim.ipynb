{
 "cells": [
  {
   "cell_type": "markdown",
   "metadata": {
    "slideshow": {
     "slide_type": "slide"
    }
   },
   "source": [
    "# PID Controller Simulation\n",
    "\n",
    "* Simulation provides functional evidence and proof of the code\n",
    "* Simulation allows inspection of graphical curse of PID controller\n",
    "* Use tge very **same code** from steer_and_control crate **for simulation** as on **embedded target**\n"
   ]
  },
  {
   "cell_type": "code",
   "execution_count": null,
   "metadata": {
    "slideshow": {
     "slide_type": "slide"
    }
   },
   "outputs": [],
   "source": [
    ":dep plotters = { git = \"https://github.com/38/plotters\", default_features = false, features = [\"evcxr\", \"all_series\", \"all_elements\"] }\n",
    ":dep conreg = { verion = \"0.1.0\", default_features = false, features = [\"std\"] }\n",
    ":sccache = 1"
   ]
  },
  {
   "cell_type": "code",
   "execution_count": null,
   "metadata": {
    "slideshow": {
     "slide_type": "subslide"
    }
   },
   "outputs": [],
   "source": [
    "use conreg::control::{\n",
    "    pid::PidController,\n",
    "    pid_parameter::PidParameterAdditive\n",
    "};\n",
    "use std::iter;\n",
    "use plotters::prelude::*;\n",
    "use plotters::prelude::LineSeries;"
   ]
  },
  {
   "cell_type": "code",
   "execution_count": null,
   "metadata": {
    "slideshow": {
     "slide_type": "subslide"
    }
   },
   "outputs": [],
   "source": [
    "// instanciate the PID controller\n",
    "let p = PidParameterAdditive::new(1.0).set_integral(2.0).set_differential(0.5);\n",
    "let mut pid = PidController::<f32>::new_with_t1(0.01, 0.1).set(p);\n",
    "println!(\"PID controller {:?}\", pid );"
   ]
  },
  {
   "cell_type": "code",
   "execution_count": null,
   "metadata": {
    "slideshow": {
     "slide_type": "fragment"
    }
   },
   "outputs": [],
   "source": [
    "// compose step response:\n",
    "let step_pre = iter::repeat(0.0_f32).take(100);\n",
    "let step_post = iter::repeat(1.0_f32).take(1101);\n",
    "let step_y = step_pre.chain(step_post);"
   ]
  },
  {
   "cell_type": "code",
   "execution_count": null,
   "metadata": {
    "slideshow": {
     "slide_type": "fragment"
    }
   },
   "outputs": [],
   "source": [
    "// compute the simulation data\n",
    "let setpoint = step_y.clone();\n",
    "let process = iter::repeat(0.0_f32).take(1201);\n",
    "let manipulated = setpoint.zip(process)\n",
    "    .map(|x| pid.control(x)) // run the controller\n",
    "    .collect::<Vec<f32>>();  // this collector needs to be called to compensate for map function"
   ]
  },
  {
   "cell_type": "code",
   "execution_count": null,
   "metadata": {
    "slideshow": {
     "slide_type": "subslide"
    }
   },
   "outputs": [],
   "source": [
    "// configure the simulation plot\n",
    "let figure = evcxr_figure((640, 480), |root| {\n",
    "    root.fill(&WHITE);\n",
    "    let mut chart = ChartBuilder::on(&root)\n",
    "        .caption(\"Step Response of PID(1.0, 2.0s, 0.5/s)-T1(0.1s)\", (\"Arial\", 24).into_font())\n",
    "        .margin(5)\n",
    "        .x_label_area_size(30)\n",
    "        .y_label_area_size(30)\n",
    "        .build_cartesian_2d(-0.1f32..1.05f32, -0.1f32..6.0f32)?;\n",
    "\n",
    "    chart.configure_mesh().draw()?;\n",
    "\n",
    "    chart.draw_series(LineSeries::new(\n",
    "        (-100..=1100).map(|x| x as f32 * 0.01).zip(step_y),\n",
    "        &RED,\n",
    "    )).unwrap()\n",
    "        .label(\"Step Function\")\n",
    "        .legend(|(x,y)| PathElement::new(vec![(x,y), (x + 20,y)], &RED));\n",
    "    chart.draw_series(LineSeries::new(\n",
    "        (-100..=1099).map(|x| x as f32 * 0.01).zip(manipulated),\n",
    "        &BLUE,\n",
    "    )).unwrap()\n",
    "        .label(\"PID Response on step func\")\n",
    "        .legend(|(x,y)| PathElement::new(vec![(x,y), (x + 20,y)], &BLUE));\n",
    "\n",
    "    chart.configure_series_labels()\n",
    "        .background_style(&WHITE.mix(0.8))\n",
    "        .border_style(&BLACK)\n",
    "        .position(SeriesLabelPosition::UpperRight)\n",
    "        .draw()?;\n",
    "    Ok(())\n",
    "});"
   ]
  },
  {
   "cell_type": "code",
   "execution_count": null,
   "metadata": {
    "slideshow": {
     "slide_type": "subslide"
    }
   },
   "outputs": [],
   "source": [
    "// show the plot\n",
    "figure"
   ]
  }
 ],
 "metadata": {
  "celltoolbar": "Slideshow",
  "kernelspec": {
   "display_name": "Rust",
   "language": "rust",
   "name": "rust"
  },
  "language_info": {
   "codemirror_mode": "rust",
   "file_extension": ".rs",
   "mimetype": "text/rust",
   "name": "Rust",
   "pygment_lexer": "rust",
   "version": ""
  }
 },
 "nbformat": 4,
 "nbformat_minor": 4
}
