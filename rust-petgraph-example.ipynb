{
 "cells": [
  {
   "cell_type": "markdown",
   "metadata": {},
   "source": [
    "# Graph output example\n",
    "\n",
    "* see\n",
    "  * https://github.com/petgraph/petgraph\n",
    "  * https://github.com/timthelion/petgraph-evcxr/blob/master/README.ipynb\n",
    "* requires graphviz installed (see apt.txt)"
   ]
  },
  {
   "cell_type": "code",
   "execution_count": null,
   "metadata": {},
   "outputs": [],
   "source": [
    ":dep petgraph = \"*\"\n",
    ":dep petgraph-evcxr = \"*\""
   ]
  },
  {
   "cell_type": "code",
   "execution_count": null,
   "metadata": {},
   "outputs": [],
   "source": [
    "extern crate petgraph;\n",
    "use petgraph::graph::Graph;\n",
    "use petgraph::dot::Dot;\n",
    "use petgraph_evcxr::{draw_graph, draw_dot};"
   ]
  },
  {
   "cell_type": "code",
   "execution_count": null,
   "metadata": {},
   "outputs": [],
   "source": [
    "let mut g : Graph<&str, &str> = Graph::new();\n",
    "let good = g.add_node(\"the good\");\n",
    "let bad = g.add_node(\"the bad\");\n",
    "let ugly = g.add_node(\"the ugly\");\n",
    "\n",
    "g.add_edge(good, bad, \"don't move\");\n",
    "g.add_edge(bad, good, \"don't move\");\n",
    "g.add_edge(bad, ugly, \"don't move\");\n",
    "g.add_edge(ugly, bad, \"don't move\");\n",
    "g.add_edge(ugly, good, \"don't move\");\n",
    "g.add_edge(good, ugly, \"don't move\");\n",
    "draw_graph(&g);"
   ]
  },
  {
   "cell_type": "code",
   "execution_count": null,
   "metadata": {},
   "outputs": [],
   "source": []
  }
 ],
 "metadata": {
  "kernelspec": {
   "display_name": "Rust",
   "language": "rust",
   "name": "rust"
  },
  "language_info": {
   "codemirror_mode": "rust",
   "file_extension": ".rs",
   "mimetype": "text/rust",
   "name": "Rust",
   "pygment_lexer": "rust",
   "version": ""
  }
 },
 "nbformat": 4,
 "nbformat_minor": 4
}
