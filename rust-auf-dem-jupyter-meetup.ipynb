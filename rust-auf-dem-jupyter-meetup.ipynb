{
 "cells": [
  {
   "cell_type": "markdown",
   "metadata": {},
   "source": [
    "# Rust auf dem Jupyter\n",
    "\n",
    "## Abstract\n",
    "\n",
    "Jupyter wird immer beliebter in der Welt der Datenanalyse und der modernen KI/ML.\n",
    "Rust erfreut sich einer ähnlicher Beliebtheitssteigerungen, wenn es um effiziente Resourcennutzung, Parallelität und Wartbarkeit keht, insbesondere im Umfeld hardwarenaher Systemprogramming.\n",
    "\n",
    "Wie passen beide Welten zusammen und wo liegt der Nutzen.\n",
    "\n",
    "## Agenda\n",
    "\n",
    "* Kontext\n",
    "* Jupyter Intro\n",
    "* Rust Kernel\n",
    "* Input\n",
    "* Output\n",
    "* Rust Kernel vs. Python kernel\n",
    "* Praktisches Beispiel\n"
   ]
  },
  {
   "cell_type": "markdown",
   "metadata": {},
   "source": [
    "# Kontext\n",
    "\n",
    "  * Wer bin ich?\n",
    "  * Wieso mache ich das hier?\n",
    "  * Wie bin ich zu Jupyter und Rust gekommen?"
   ]
  },
  {
   "cell_type": "markdown",
   "metadata": {},
   "source": [
    "# Jupyter Intro\n",
    "\n",
    "* Geeignet wo für?\n",
    "* General Technology (notebook, lab, kernels)\n",
    "* Jupyter Hub, Cloud,\n",
    "* binder to start\n"
   ]
  },
  {
   "cell_type": "markdown",
   "metadata": {},
   "source": [
    "# Rust Kernel\n",
    "\n",
    "* Installation --> see README.md\n",
    "\n"
   ]
  },
  {
   "cell_type": "code",
   "execution_count": null,
   "metadata": {},
   "outputs": [],
   "source": [
    ":help"
   ]
  },
  {
   "cell_type": "code",
   "execution_count": null,
   "metadata": {},
   "outputs": [],
   "source": [
    ":sccache 1\n",
    ":dep futures = \"0.3.*\"\n",
    ":version\n",
    ":timing\n",
    "// it is important - block start with extra command - no commentary at the beginning"
   ]
  },
  {
   "cell_type": "code",
   "execution_count": null,
   "metadata": {},
   "outputs": [],
   "source": [
    "let i1 = 10_i32;\n",
    "let f1 = 10.0_f32;\n",
    "f1"
   ]
  },
  {
   "cell_type": "code",
   "execution_count": null,
   "metadata": {},
   "outputs": [],
   "source": [
    ":vars"
   ]
  },
  {
   "cell_type": "markdown",
   "metadata": {},
   "source": [
    "# Input\n",
    "\n",
    "* eigenes Beispiel"
   ]
  },
  {
   "cell_type": "code",
   "execution_count": null,
   "metadata": {},
   "outputs": [],
   "source": [
    ":dep evcxr_input\n",
    "// Code from evcxr github repo\n",
    "let name = evcxr_input::get_string(\"Name?\");\n",
    "let password = evcxr_input::get_password(\"Password?\");"
   ]
  },
  {
   "cell_type": "markdown",
   "metadata": {},
   "source": [
    "# Output\n",
    "  * Alles schon da :-)"
   ]
  },
  {
   "cell_type": "code",
   "execution_count": null,
   "metadata": {
    "tags": []
   },
   "outputs": [],
   "source": [
    "// Code from evcxr github repo\n",
    "use std::fmt::Debug;\n",
    "pub struct Matrix<T> {pub values: Vec<T>, pub row_size: usize}"
   ]
  },
  {
   "cell_type": "code",
   "execution_count": null,
   "metadata": {
    "jupyter": {
     "source_hidden": true
    },
    "tags": []
   },
   "outputs": [],
   "source": [
    "impl<T: Debug> Matrix<T> {\n",
    "    pub fn evcxr_display(&self) {\n",
    "        let mut html = String::new();\n",
    "        html.push_str(\"<table>\");\n",
    "        for r in 0..(self.values.len() / self.row_size) {\n",
    "            html.push_str(\"<tr>\");\n",
    "            for c in 0..self.row_size {\n",
    "                html.push_str(\"<td>\");\n",
    "                html.push_str(&format!(\"{:?}\", self.values[r * self.row_size + c]));\n",
    "                html.push_str(\"</td>\");\n",
    "            }\n",
    "            html.push_str(\"</tr>\");\n",
    "        }\n",
    "        html.push_str(\"</table>\");\n",
    "        println!(\"EVCXR_BEGIN_CONTENT text/html\\n{}\\nEVCXR_END_CONTENT\", html);\n",
    "    }\n",
    "}"
   ]
  },
  {
   "cell_type": "code",
   "execution_count": null,
   "metadata": {},
   "outputs": [],
   "source": [
    "let m = Matrix {values: vec![1,2,3,4,5,6,7,8,9], row_size: 3};\n",
    "m"
   ]
  },
  {
   "cell_type": "code",
   "execution_count": null,
   "metadata": {},
   "outputs": [],
   "source": [
    "// und ein gewöhnliches array?\n",
    "let a = [1, 2, 3];\n",
    "a"
   ]
  },
  {
   "cell_type": "code",
   "execution_count": null,
   "metadata": {},
   "outputs": [],
   "source": [
    "// und ein dynamisches array?\n",
    "let a  = vec![0; 5];\n",
    "a"
   ]
  },
  {
   "cell_type": "code",
   "execution_count": null,
   "metadata": {},
   "outputs": [],
   "source": [
    "// und ein struct\n",
    "// #[derive(Debug)]\n",
    "pub struct MyStruct { a: i32, b: f32}\n",
    "let s = MyStruct { a: 5, b: 6.0 };\n",
    "s"
   ]
  },
  {
   "cell_type": "code",
   "execution_count": null,
   "metadata": {},
   "outputs": [],
   "source": [
    "// wir können auch besser ... (html direct output)\n",
    "pub struct MyStruct { a: i32, b: f32}\n",
    "impl MyStruct {\n",
    "    pub fn evcxr_display(&self) {\n",
    "        \n",
    "        let mut html = String::new();\n",
    "        html.push_str(\"<p>\");\n",
    "        html.push_str(&format!(\"a = {:?}<br/>\", self.a));\n",
    "        html.push_str(&format!(\"b = {:?}\", self.b));\n",
    "        html.push_str(\"</p>\");\n",
    "        println!(\"EVCXR_BEGIN_CONTENT text/html\\n{}\\nEVCXR_END_CONTENT\", html);\n",
    "    }\n",
    "}\n",
    "\n",
    "s"
   ]
  },
  {
   "cell_type": "markdown",
   "metadata": {},
   "source": [
    "# Praktisches Beispiel\n",
    "  * PID(-T1) Regler\n",
    "  * Rampe mit Rüttel-, Beschleunigungs- und Geschwindigkeitslimits"
   ]
  }
 ],
 "metadata": {
  "kernelspec": {
   "display_name": "Rust",
   "language": "rust",
   "name": "rust"
  },
  "language_info": {
   "codemirror_mode": "rust",
   "file_extension": ".rs",
   "mimetype": "text/rust",
   "name": "Rust",
   "pygment_lexer": "rust",
   "version": ""
  }
 },
 "nbformat": 4,
 "nbformat_minor": 4
}
