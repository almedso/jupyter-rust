{
 "cells": [
  {
   "cell_type": "markdown",
   "metadata": {},
   "source": [
    "# Log output in jupyter"
   ]
  },
  {
   "cell_type": "code",
   "execution_count": 12,
   "metadata": {},
   "outputs": [],
   "source": [
    ":dep env_logger = \"0.8.3\"\n",
    ":dep log = \"0.4.*\"\n",
    ":dep chrono = \"0.4.19\""
   ]
  },
  {
   "cell_type": "code",
   "execution_count": 13,
   "metadata": {},
   "outputs": [],
   "source": [
    "use std::io::Write;\n",
    "use chrono::Local;\n",
    "use env_logger::Builder;\n",
    "use log::LevelFilter;\n",
    "\n",
    "fn config_logger() {\n",
    "    Builder::new()\n",
    "        .format(|buf, record| {\n",
    "            writeln!(buf,\n",
    "                \"{} [{}] - {}\",\n",
    "                Local::now().format(\"%H:%M:%S%.3f\"),\n",
    "                record.level(),\n",
    "                record.args()\n",
    "            )\n",
    "        })\n",
    "        .filter(None, LevelFilter::Debug)\n",
    "        .init();\n",
    "}\n"
   ]
  },
  {
   "cell_type": "code",
   "execution_count": 14,
   "metadata": {},
   "outputs": [],
   "source": [
    "log::warn!(\"warn\");\n",
    "log::info!(\"info\");\n",
    "log::debug!(\"debug\");"
   ]
  },
  {
   "cell_type": "code",
   "execution_count": 15,
   "metadata": {},
   "outputs": [
    {
     "name": "stderr",
     "output_type": "stream",
     "text": [
      "13:19:06.588 [WARN] - warn\n",
      "13:19:06.589 [INFO] - info\n",
      "13:19:06.589 [DEBUG] - debug\n"
     ]
    }
   ],
   "source": [
    "config_logger();\n",
    "log::warn!(\"warn\");\n",
    "log::info!(\"info\");\n",
    "log::debug!(\"debug\");"
   ]
  },
  {
   "cell_type": "code",
   "execution_count": null,
   "metadata": {},
   "outputs": [],
   "source": []
  }
 ],
 "metadata": {
  "kernelspec": {
   "display_name": "Rust",
   "language": "rust",
   "name": "rust"
  },
  "language_info": {
   "codemirror_mode": "rust",
   "file_extension": ".rs",
   "mimetype": "text/rust",
   "name": "Rust",
   "pygment_lexer": "rust",
   "version": ""
  }
 },
 "nbformat": 4,
 "nbformat_minor": 4
}
