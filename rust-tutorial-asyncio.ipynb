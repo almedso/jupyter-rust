{
 "cells": [
  {
   "cell_type": "markdown",
   "metadata": {},
   "source": [
    "# AsyncIO in Rust play ground\n",
    "\n",
    "see https://blog.logrocket.com/a-practical-guide-to-async-in-rust/\n",
    "\n",
    "## Learnings\n",
    "\n",
    "* **async functions** always return **futures**\n",
    "* futures await their completions, and are pending as long as they are not available\n",
    "* **async functions** are **coroutines** (stop at await, continue after await)\n",
    "* **async functions** require a **runtime**, e.g. tokyo\n",
    "\n",
    "* 'todo!' macro panics and is part of stdlib\n"
   ]
  },
  {
   "cell_type": "code",
   "execution_count": 2,
   "metadata": {},
   "outputs": [
    {
     "data": {
      "text/plain": [
       "sccache: true\n"
      ]
     },
     "execution_count": 2,
     "metadata": {},
     "output_type": "execute_result"
    }
   ],
   "source": [
    ":sccache 1\n",
    ":dep futures = \"0.3.*\"\n",
    ":dep tokio = {version = \"0.3.3\", features = [\"full\"] }\n",
    ":dep env_logger = \"0.8.3\"\n",
    ":dep log = \"0.4.*\"\n",
    ":dep chrono = \"0.4.19\""
   ]
  },
  {
   "cell_type": "code",
   "execution_count": 3,
   "metadata": {},
   "outputs": [
    {
     "name": "stderr",
     "output_type": "stream",
     "text": [
      "21:03:28.958 [DEBUG] - logger configured\n"
     ]
    }
   ],
   "source": [
    "use std::io::Write;\n",
    "use chrono::Local;\n",
    "use env_logger::Builder;\n",
    "use log::LevelFilter;\n",
    "\n",
    "fn config_logger() {\n",
    "    Builder::new()\n",
    "        .format(|buf, record| {\n",
    "            writeln!(buf,\n",
    "                \"{} [{}] - {}\",\n",
    "                Local::now().format(\"%H:%M:%S%.3f\"),\n",
    "                record.level(),\n",
    "                record.args()\n",
    "            )\n",
    "        })\n",
    "        .filter(None, LevelFilter::Debug)\n",
    "        .init();\n",
    "}\n",
    "\n",
    "config_logger();\n",
    "log::debug!(\"logger configured\");"
   ]
  },
  {
   "cell_type": "markdown",
   "metadata": {},
   "source": [
    "## Start a runtime explicitely"
   ]
  },
  {
   "cell_type": "code",
   "execution_count": 4,
   "metadata": {},
   "outputs": [
    {
     "name": "stderr",
     "output_type": "stream",
     "text": [
      "21:03:41.216 [DEBUG] - App instanciated\n",
      "21:03:41.216 [INFO] - async done with explicite runtime call\n",
      "21:03:41.216 [DEBUG] - Unblocked and finished\n"
     ]
    },
    {
     "data": {
      "text/plain": [
       "()"
      ]
     },
     "execution_count": 4,
     "metadata": {},
     "output_type": "execute_result"
    }
   ],
   "source": [
    "use futures::prelude::*;\n",
    "use tokio::prelude::*;\n",
    "config_logger();\n",
    "\n",
    "async fn app() {\n",
    "    log::info!(\"async done with explicite runtime call\");\n",
    "}\n",
    "\n",
    "fn main() {\n",
    "    let mut rt = tokio::runtime::Runtime::new().unwrap();\n",
    "    // just instanciate the (async function) app - do not run it\n",
    "    let future = app();\n",
    "    log::debug!(\"App instanciated\");\n",
    "    \n",
    "    // block until the async function is finished\n",
    "    rt.block_on(future);\n",
    "    log::debug!(\"Unblocked and finished\");\n",
    "}\n",
    "\n",
    "main()\n"
   ]
  },
  {
   "cell_type": "code",
   "execution_count": 5,
   "metadata": {},
   "outputs": [
    {
     "data": {
      "text/html": [
       "<table><tr><th>Variable</th><th>Type</th></tr></table>"
      ],
      "text/plain": []
     },
     "execution_count": 5,
     "metadata": {},
     "output_type": "execute_result"
    }
   ],
   "source": [
    ":vars"
   ]
  },
  {
   "cell_type": "markdown",
   "metadata": {},
   "source": [
    "## Start a runtime compact form"
   ]
  },
  {
   "cell_type": "code",
   "execution_count": 6,
   "metadata": {},
   "outputs": [
    {
     "name": "stdout",
     "output_type": "stream",
     "text": [
      "async done in toyo runtime injection\n"
     ]
    },
    {
     "data": {
      "text/plain": [
       "()"
      ]
     },
     "execution_count": 6,
     "metadata": {},
     "output_type": "execute_result"
    }
   ],
   "source": [
    "#[tokio::main]\n",
    "async fn main() {\n",
    "    println!(\"async done in toyo runtime injection\");\n",
    "}\n",
    "\n",
    "main()"
   ]
  },
  {
   "cell_type": "markdown",
   "metadata": {},
   "source": [
    "## Spawn blocking or CPU-intensive tasks\n"
   ]
  },
  {
   "cell_type": "code",
   "execution_count": 7,
   "metadata": {},
   "outputs": [
    {
     "name": "stderr",
     "output_type": "stream",
     "text": [
      "21:03:57.606 [DEBUG] - All initialized - spawn_blocking also starts a thread already.\n",
      "21:03:57.606 [INFO] - async done with explicite runtime call\n",
      "21:03:57.612 [INFO] - Fibonacci number of 30 is 832040\n",
      "21:03:57.613 [DEBUG] - All finisned i.e. all futures have been completed\n"
     ]
    },
    {
     "data": {
      "text/plain": [
       "()"
      ]
     },
     "execution_count": 7,
     "metadata": {},
     "output_type": "execute_result"
    }
   ],
   "source": [
    "use tokio::task;\n",
    "config_logger();\n",
    "\n",
    "fn fib_cpu_intensive(n: u32) -> u32 {\n",
    "    match n {\n",
    "        0 => 0,\n",
    "        1 => 1,\n",
    "        n => fib_cpu_intensive(n - 1) + fib_cpu_intensive(n - 2),\n",
    "    }\n",
    "}\n",
    "\n",
    "async fn app() {\n",
    "    log::info!(\"async done with explicite runtime call\");\n",
    "}\n",
    "\n",
    "#[tokio::main]\n",
    "async fn main() {\n",
    "    let threadpool_future = task::spawn_blocking(||log::info!(\"Fibonacci number of 30 is {}\", fib_cpu_intensive(30)));\n",
    "    let concurrent_future = task::spawn(app());\n",
    "    log::debug!(\"All initialized - spawn_blocking also starts a thread already.\");\n",
    "    let _ = threadpool_future.await;  // waits until the the long running functions finished in the thread.\n",
    "    let _ = concurrent_future.await;  // Actually call the async function app\n",
    "    log::debug!(\"All finisned i.e. all futures have been completed\")\n",
    "    \n",
    "}\n",
    "main()"
   ]
  },
  {
   "cell_type": "markdown",
   "metadata": {},
   "source": [
    "## Async functions return futures\n",
    "\n",
    "- await the future and proceed "
   ]
  },
  {
   "cell_type": "code",
   "execution_count": 8,
   "metadata": {},
   "outputs": [
    {
     "name": "stderr",
     "output_type": "stream",
     "text": [
      "21:04:05.048 [DEBUG] - All initialized\n",
      "21:04:05.049 [DEBUG] - Request n: 2\n",
      "21:04:05.203 [DEBUG] - 150 ms have elapsed\n",
      "21:04:05.251 [DEBUG] - 200 ms have elapsed\n",
      "21:04:05.353 [DEBUG] - 300 ms have elapsed\n",
      "21:04:05.353 [DEBUG] - 1st result 300\n",
      "21:04:05.855 [DEBUG] - 500 ms have elapsed\n",
      "21:04:05.855 [INFO] - Result 2: 150 3: 300\n",
      "21:04:05.855 [DEBUG] - Finished both\n"
     ]
    },
    {
     "data": {
      "text/plain": [
       "()"
      ]
     },
     "execution_count": 8,
     "metadata": {},
     "output_type": "execute_result"
    }
   ],
   "source": [
    "use tokio::time::{sleep, Duration};\n",
    "config_logger();\n",
    "\n",
    "async fn wait_ms_async(time_in_ms: u64) -> u64 {\n",
    "    sleep(Duration::from_millis(time_in_ms)).await;\n",
    "    log::debug!(\"{} ms have elapsed\", time_in_ms);\n",
    "    time_in_ms\n",
    "}\n",
    "\n",
    "async fn request(n: u16) -> Result<u16, ()> {\n",
    "    log::debug!(\"Request n: {}\", n);\n",
    "    // future::ok resolves directly to a ready; i.e. a completed future\n",
    "    // the following await converts the future into an ordinary function\n",
    "    future::ok::<_,()>(n).await\n",
    "}\n",
    "\n",
    "async fn wait_two_times_sequentially() -> u64 {\n",
    "    let mut sum = 0_u64;\n",
    "    let f = wait_ms_async(300)\n",
    "        .then(|first_return_value| {\n",
    "            // \n",
    "            log::debug!(\"1st result {}\", first_return_value);\n",
    "            sum = first_return_value;\n",
    "            wait_ms_async(500) });\n",
    "    f.await;\n",
    "    sum \n",
    "    // 100_u64\n",
    "}\n",
    "\n",
    "#[tokio::main]\n",
    "async fn main() {\n",
    "    let resp1 = task::spawn(request(2));\n",
    "    let resp2 = task::spawn(wait_ms_async(150));\n",
    "    let resp3 = task::spawn(wait_ms_async(200));\n",
    "    let resp4 = task::spawn(wait_two_times_sequentially());\n",
    "    log::debug!(\"All initialized\");\n",
    "    let resp1_result = resp1.await;\n",
    "    let resp2_result = resp2.await;\n",
    "    let resp3_result = resp3.await;\n",
    "    let resp4_result = resp4.await;\n",
    "    log::info!(\"Result 2: {} 3: {}\", resp2_result.unwrap(), resp4_result.unwrap());\n",
    "    log::debug!(\"Finished both\");\n",
    "}\n",
    "main()"
   ]
  },
  {
   "cell_type": "markdown",
   "metadata": {},
   "source": [
    "## async Equivalence\n",
    "\n",
    "async provides syntactic sugger\n",
    "\n",
    "A function that returns a Future. The future is not part of the return.\n",
    "see https://medium.com/@alistairisrael/demystifying-closures-futures-and-async-await-in-rust-part-3-async-await-9ed20eede7a4"
   ]
  },
  {
   "cell_type": "code",
   "execution_count": 9,
   "metadata": {},
   "outputs": [],
   "source": [
    "async fn async_returns_i32() -> i32 {\n",
    "    42\n",
    "}\n",
    "\n",
    "fn returns_future_i32() -> impl Future<Output = i32> {\n",
    "    future::ready(42)\n",
    "}\n",
    "\n",
    "fn returns_async_block_i32() -> impl Future<Output = i32> {\n",
    "    async { 42 }\n",
    "}"
   ]
  },
  {
   "cell_type": "markdown",
   "metadata": {},
   "source": [
    "## await Equivalence\n",
    "\n",
    "await is like waiting until the future completes, i.e. is not pending anymore."
   ]
  },
  {
   "cell_type": "code",
   "execution_count": 10,
   "metadata": {},
   "outputs": [
    {
     "ename": "Error",
     "evalue": "Sorry, the type futures::future::Lazy<[closure@src/lib.rs:192:38: 194:6]> cannot currently be persisted",
     "output_type": "error",
     "traceback": [
      "Sorry, the type futures::future::Lazy<[closure@src/lib.rs:192:38: 194:6]> cannot currently be persisted"
     ]
    }
   ],
   "source": [
    "    let x = 42;\n",
    "    let async_capture = future::lazy(|_| {\n",
    "        debug!(\"in async_capture, x => {}\", x);\n",
    "    });\n",
    "    rt.block_on(async_capture);"
   ]
  },
  {
   "cell_type": "code",
   "execution_count": 11,
   "metadata": {},
   "outputs": [
    {
     "ename": "Error",
     "evalue": "expected one of `!` or `[`, found `force`",
     "output_type": "error",
     "traceback": [
      "# force compile error",
      "\u001b[91m  ^^^^^\u001b[0m \u001b[94mexpected one of `!` or `[`\u001b[0m",
      "expected one of `!` or `[`, found `force`"
     ]
    },
    {
     "ename": "Error",
     "evalue": "cannot find macro `debug` in this scope",
     "output_type": "error",
     "traceback": [
      "rt.block_on(future::lazy(|_| debug!(\"in rt.block_on()\")));",
      "\u001b[91m                             ^^^^^\u001b[0m \u001b[94m\u001b[0m",
      "cannot find macro `debug` in this scope"
     ]
    },
    {
     "ename": "Error",
     "evalue": "cannot find macro `debug` in this scope",
     "output_type": "error",
     "traceback": [
      "debug!(\"returns_impl_future_i32() -> {}\", r1);",
      "\u001b[91m^^^^^\u001b[0m \u001b[94m\u001b[0m",
      "cannot find macro `debug` in this scope"
     ]
    }
   ],
   "source": [
    "config_logger();\n",
    "\n",
    "fn returns_impl_future_i32() -> impl Future<Output = i32> {\n",
    "    future::ready(42)\n",
    "}\n",
    "\n",
    "let mut rt = tokio::runtime::Runtime::new().unwrap();\n",
    "rt.block_on(future::lazy(|_| debug!(\"in rt.block_on()\")));\n",
    "let r0 = rt.block_on(future::ready(\"Hello from rt.block_on()\"));\n",
    "log::debug!(\"{}\", r0);\n",
    "\n",
    "let r1 = rt.block_on(returns_impl_future_i32());\n",
    "log::debug!(\"returns_impl_future_i32() -> {}\", r1);\n",
    "\n",
    "// do not run - this one loops forever\n",
    "# force compile error\n"
   ]
  },
  {
   "cell_type": "code",
   "execution_count": 15,
   "metadata": {},
   "outputs": [
    {
     "ename": "Error",
     "evalue": "expected one of `::`, `;`, or `as`, found `:`",
     "output_type": "error",
     "traceback": [
      "use log:debug;",
      "\u001b[91m       ^\u001b[0m \u001b[94mexpected one of `::`, `;`, or `as`\u001b[0m",
      "expected one of `::`, `;`, or `as`, found `:`"
     ]
    }
   ],
   "source": [
    "use log::debug;\n",
    "\n",
    "fn returns_impl_future_i32() -> impl Future<Output = i32> {\n",
    "    future::ready(42)\n",
    "}\n",
    "\n",
    "let mut rt = tokio::runtime::Runtime::new().unwrap();\n",
    "rt.block_on(\n",
    "    async {\n",
    "        debug!(\"in rt.block_on()\");\n",
    "        let r0 = future::ready(\"Hello from rt.block_on()\").await;\n",
    "        debug!(\"{}\", r0);\n",
    "        let r1 = returns_impl_future_i32().await;\n",
    "        debug!(\"returns_impl_future_i32() -> {}\", r1);\n",
    "    }\n",
    ")"
   ]
  },
  {
   "cell_type": "code",
   "execution_count": null,
   "metadata": {},
   "outputs": [],
   "source": []
  }
 ],
 "metadata": {
  "kernelspec": {
   "display_name": "Rust",
   "language": "rust",
   "name": "rust"
  },
  "language_info": {
   "codemirror_mode": "rust",
   "file_extension": ".rs",
   "mimetype": "text/rust",
   "name": "Rust",
   "pygment_lexer": "rust",
   "version": ""
  }
 },
 "nbformat": 4,
 "nbformat_minor": 4
}
