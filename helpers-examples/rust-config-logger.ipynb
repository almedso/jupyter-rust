{
 "cells": [
  {
   "cell_type": "markdown",
   "metadata": {},
   "source": [
    "# Log output in jupyter\n",
    "\n",
    "This notebook shows the logger in action.\n",
    "\n",
    "Typically println!(\"xyz\") would be ok. However, if you do\n",
    "want to see timing stuff, e.g. when playing around with async/await and threading\n",
    "it make sense to use an this logger because it shows milliseconds.\n"
   ]
  },
  {
   "cell_type": "code",
   "execution_count": 2,
   "metadata": {},
   "outputs": [],
   "source": [
    ":dep env_logger = \"0.8.3\"\n",
    ":dep log = \"0.4.*\"\n",
    ":dep chrono = \"0.4.19\""
   ]
  },
  {
   "cell_type": "code",
   "execution_count": 3,
   "metadata": {},
   "outputs": [],
   "source": [
    "use std::io::Write;\n",
    "use chrono::Local;\n",
    "use env_logger::Builder;\n",
    "use log::LevelFilter;\n",
    "\n",
    "fn config_logger() {\n",
    "    Builder::new()\n",
    "        .format(|buf, record| {\n",
    "            writeln!(buf,\n",
    "                \"{} [{}] - {}\",\n",
    "                Local::now().format(\"%H:%M:%S%.3f\"),\n",
    "                record.level(),\n",
    "                record.args()\n",
    "            )\n",
    "        })\n",
    "        .filter(None, LevelFilter::Debug)\n",
    "        .init();\n",
    "}\n"
   ]
  },
  {
   "cell_type": "code",
   "execution_count": 4,
   "metadata": {},
   "outputs": [],
   "source": [
    "log::warn!(\"warn\");\n",
    "log::info!(\"info\");\n",
    "log::debug!(\"debug\");"
   ]
  },
  {
   "cell_type": "code",
   "execution_count": 5,
   "metadata": {},
   "outputs": [
    {
     "name": "stderr",
     "output_type": "stream",
     "text": [
      "21:03:49.029 [WARN] - warn\n",
      "21:03:49.029 [INFO] - info\n",
      "21:03:49.029 [DEBUG] - debug\n"
     ]
    }
   ],
   "source": [
    "config_logger();\n",
    "log::warn!(\"warn\");\n",
    "log::info!(\"info\");\n",
    "log::debug!(\"debug\");"
   ]
  },
  {
   "cell_type": "code",
   "execution_count": null,
   "metadata": {},
   "outputs": [],
   "source": []
  }
 ],
 "metadata": {
  "kernelspec": {
   "display_name": "Rust",
   "language": "rust",
   "name": "rust"
  },
  "language_info": {
   "codemirror_mode": "rust",
   "file_extension": ".rs",
   "mimetype": "text/rust",
   "name": "Rust",
   "pygment_lexer": "rust",
   "version": ""
  }
 },
 "nbformat": 4,
 "nbformat_minor": 4
}