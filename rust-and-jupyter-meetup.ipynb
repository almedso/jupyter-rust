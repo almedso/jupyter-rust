{
 "cells": [
  {
   "cell_type": "markdown",
   "metadata": {
    "slideshow": {
     "slide_type": "slide"
    }
   },
   "source": [
    "# Jupyter and Rust\n",
    "\n",
    "## Rust Franken Meetup #2 @ 2021-05-20"
   ]
  },
  {
   "cell_type": "markdown",
   "metadata": {
    "slideshow": {
     "slide_type": "slide"
    }
   },
   "source": [
    "## Abstract\n",
    "\n",
    "Jupyter is becoming more and more popular with data scientists and modern AI/ML. Rust is also growing in popularity especially with folks that care about efficient use of resources, concurrency and maintainability and low-level system programming.\n",
    "\n",
    "How can we combine these two technologies and what benefits do we gain by doing this?\n"
   ]
  },
  {
   "cell_type": "markdown",
   "metadata": {
    "slideshow": {
     "slide_type": "slide"
    }
   },
   "source": [
    "# Context\n",
    " "
   ]
  },
  {
   "cell_type": "markdown",
   "metadata": {
    "slideshow": {
     "slide_type": "subslide"
    }
   },
   "source": [
    "## Who am I?\n",
    "\n",
    "![alt text](https://www.gravatar.com/avatar/d72662b5bdafbedb240dfb3b671c15c1.jpg \"Just me\")\n",
    "\n",
    "Contact me:\n",
    "    volker.kempert@almedso.de"
   ]
  },
  {
   "cell_type": "markdown",
   "metadata": {
    "slideshow": {
     "slide_type": "subslide"
    }
   },
   "source": [
    "## My Problem\n",
    "\n",
    "Does my deep embedded code \n",
    "* of PID(-t1) controller \n",
    "* and (S-) ramp steering\n",
    "\n",
    "work as expected?"
   ]
  },
  {
   "cell_type": "markdown",
   "metadata": {
    "slideshow": {
     "slide_type": "fragment"
    }
   },
   "source": [
    "(beyond `cargo test`)"
   ]
  },
  {
   "cell_type": "markdown",
   "metadata": {
    "slideshow": {
     "slide_type": "subslide"
    }
   },
   "source": [
    "## My Solution\n",
    "\n",
    "* Run the unchanged deep embedded code in simulation to validate the corrrect implementation of the PID-t1 model and the s-ramp model.\n",
    "* Visualize the simulation results"
   ]
  },
  {
   "cell_type": "markdown",
   "metadata": {
    "slideshow": {
     "slide_type": "slide"
    }
   },
   "source": [
    "## Agenda\n",
    "\n",
    "* Jupyter Introduction\n",
    "* Rust Kernel\n",
    " * Input\n",
    " * Output\n",
    "* Embedded Simulation Example\n",
    "* Closing Remarks"
   ]
  },
  {
   "cell_type": "markdown",
   "metadata": {
    "slideshow": {
     "slide_type": "slide"
    }
   },
   "source": [
    "# Jupyter - Usage scenarios\n",
    "\n",
    "* (Big) Data extraction\n",
    "* Machine learning\n",
    "* Statistical analysis\n",
    "* Image analysis\n",
    "* Signal analysis\n",
    "* Simulations"
   ]
  },
  {
   "cell_type": "markdown",
   "metadata": {
    "slideshow": {
     "slide_type": "slide"
    }
   },
   "source": [
    "# Jupyter - Concepts and Capabilities\n",
    "\n",
    "* **A notebook is an ordered set of cells executed by kernels**\n",
    "* A server (http(s) protocol) plus a client (lab, notebook, vs-code)\n",
    "* Jupyter Hub, Cloud,\n",
    "* Binder for publicly available notebooks to start\n"
   ]
  },
  {
   "cell_type": "markdown",
   "metadata": {
    "slideshow": {
     "slide_type": "slide"
    }
   },
   "source": [
    "# Rust Kernel\n",
    "\n",
    "* Installation --> see README.md\n",
    "\n"
   ]
  },
  {
   "cell_type": "markdown",
   "metadata": {
    "slideshow": {
     "slide_type": "slide"
    }
   },
   "source": [
    "## Basics"
   ]
  },
  {
   "cell_type": "code",
   "execution_count": null,
   "metadata": {
    "slideshow": {
     "slide_type": "subslide"
    }
   },
   "outputs": [],
   "source": [
    ":help"
   ]
  },
  {
   "cell_type": "code",
   "execution_count": null,
   "metadata": {
    "slideshow": {
     "slide_type": "subslide"
    }
   },
   "outputs": [],
   "source": [
    ":sccache 1\n",
    ":dep futures = \"0.3.*\"\n",
    ":version\n",
    ":timing\n",
    "// it is important - block start with extra command - no commentary at the beginning"
   ]
  },
  {
   "cell_type": "code",
   "execution_count": null,
   "metadata": {
    "slideshow": {
     "slide_type": "subslide"
    }
   },
   "outputs": [],
   "source": [
    "let i1 = 10_i32;\n",
    "let f1 = 10.0_f32;\n",
    "f1"
   ]
  },
  {
   "cell_type": "code",
   "execution_count": null,
   "metadata": {
    "scrolled": true,
    "slideshow": {
     "slide_type": "subslide"
    }
   },
   "outputs": [],
   "source": [
    ":vars\n"
   ]
  },
  {
   "cell_type": "markdown",
   "metadata": {
    "slideshow": {
     "slide_type": "slide"
    }
   },
   "source": [
    "## Input\n",
    "\n",
    "* Basic support by evcxr_input crate of *simple text field* and *password field*\n",
    "* no widget library (like ipywidgets) yet\n"
   ]
  },
  {
   "cell_type": "code",
   "execution_count": null,
   "metadata": {
    "slideshow": {
     "slide_type": "fragment"
    }
   },
   "outputs": [],
   "source": [
    ":dep evcxr_input\n",
    "// Code from evcxr github repo\n",
    "let name = evcxr_input::get_string(\"Name?\");\n",
    "let password = evcxr_input::get_password(\"Password?\");"
   ]
  },
  {
   "cell_type": "code",
   "execution_count": null,
   "metadata": {
    "slideshow": {
     "slide_type": "fragment"
    }
   },
   "outputs": [],
   "source": [
    "println!(\"Name: {} Password: {}\", name, password);"
   ]
  },
  {
   "cell_type": "markdown",
   "metadata": {
    "slideshow": {
     "slide_type": "slide"
    }
   },
   "source": [
    "## Output\n",
    "\n",
    "* Implicite support by Debug output\n",
    "* Write your own output\n",
    "* Use *petgraph* or *plottly* or anything else"
   ]
  },
  {
   "cell_type": "markdown",
   "metadata": {
    "slideshow": {
     "slide_type": "slide"
    }
   },
   "source": [
    "## Output using debug format\n",
    "\n",
    "Equivalent to\n",
    "\n",
    "```\n",
    "println!(\"{:?}\", x);\n",
    "``` "
   ]
  },
  {
   "cell_type": "code",
   "execution_count": null,
   "metadata": {
    "slideshow": {
     "slide_type": "subslide"
    }
   },
   "outputs": [],
   "source": [
    "// an array?\n",
    "let a = [1, 2, 3];\n",
    "a"
   ]
  },
  {
   "cell_type": "code",
   "execution_count": null,
   "metadata": {
    "slideshow": {
     "slide_type": "subslide"
    }
   },
   "outputs": [],
   "source": [
    "// dynamic array aka vector?\n",
    "let a  = vec![0; 5];\n",
    "a"
   ]
  },
  {
   "cell_type": "code",
   "execution_count": null,
   "metadata": {
    "scrolled": true,
    "slideshow": {
     "slide_type": "subslide"
    }
   },
   "outputs": [],
   "source": [
    "// a struct\n",
    "#[derive(Debug)]\n",
    "pub struct MyStruct { a: i32, b: f32}\n",
    "let s = MyStruct { a: 5, b: 6.0 };\n",
    "s"
   ]
  },
  {
   "cell_type": "code",
   "execution_count": null,
   "metadata": {
    "slideshow": {
     "slide_type": "subslide"
    }
   },
   "outputs": [],
   "source": [
    "// an Enum\n",
    "#[derive(Debug)]\n",
    "pub enum MyEnum {\n",
    "    Foo,\n",
    "    Bar(i32), \n",
    "    Baz(MyStruct)\n",
    "}\n",
    "let e = MyEnum::Bar(5);\n",
    "e"
   ]
  },
  {
   "cell_type": "code",
   "execution_count": null,
   "metadata": {
    "slideshow": {
     "slide_type": "fragment"
    }
   },
   "outputs": [],
   "source": [
    "let e = MyEnum::Baz(MyStruct{a: 7, b: 8.0});\n",
    "e"
   ]
  },
  {
   "cell_type": "markdown",
   "metadata": {
    "slideshow": {
     "slide_type": "slide"
    }
   },
   "source": [
    "## Write your own output\n",
    "\n",
    "We can also do html direct output"
   ]
  },
  {
   "cell_type": "code",
   "execution_count": null,
   "metadata": {
    "slideshow": {
     "slide_type": "fragment"
    }
   },
   "outputs": [],
   "source": [
    "impl MyStruct {\n",
    "    pub fn evcxr_display(&self) {\n",
    "        \n",
    "        let mut html = String::new();\n",
    "        html.push_str(\"<p>\");\n",
    "        html.push_str(&format!(\"a = {:?}<br/>\", self.a));\n",
    "        html.push_str(&format!(\"b = {:?}\", self.b));\n",
    "        html.push_str(\"</p>\");\n",
    "        println!(\"EVCXR_BEGIN_CONTENT text/html\\n{}\\nEVCXR_END_CONTENT\", html);\n",
    "    }\n",
    "}\n",
    "\n",
    "s"
   ]
  },
  {
   "cell_type": "markdown",
   "metadata": {
    "slideshow": {
     "slide_type": "slide"
    }
   },
   "source": [
    "## Output example from excxr repo"
   ]
  },
  {
   "cell_type": "code",
   "execution_count": null,
   "metadata": {
    "slideshow": {
     "slide_type": "fragment"
    },
    "tags": []
   },
   "outputs": [],
   "source": [
    "#[derive(Debug)]\n",
    "pub struct Matrix<T> {pub values: Vec<T>, pub row_size: usize}"
   ]
  },
  {
   "cell_type": "code",
   "execution_count": null,
   "metadata": {
    "jupyter": {
     "source_hidden": true
    },
    "slideshow": {
     "slide_type": "fragment"
    },
    "tags": []
   },
   "outputs": [],
   "source": [
    "use std::fmt::Debug;\n",
    "impl<T: Debug> Matrix<T> {\n",
    "    pub fn evcxr_display(&self) {\n",
    "        let mut html = String::new();\n",
    "        html.push_str(\"<table>\");\n",
    "        for r in 0..(self.values.len() / self.row_size) {\n",
    "            html.push_str(\"<tr>\");\n",
    "            for c in 0..self.row_size {\n",
    "                html.push_str(\"<td>\");\n",
    "                html.push_str(&format!(\"{:?}\", self.values[r * self.row_size + c]));\n",
    "                html.push_str(\"</td>\");\n",
    "            }\n",
    "            html.push_str(\"</tr>\");\n",
    "        }\n",
    "        html.push_str(\"</table>\");\n",
    "        println!(\"EVCXR_BEGIN_CONTENT text/html\\n{}\\nEVCXR_END_CONTENT\", html);\n",
    "    }\n",
    "}"
   ]
  },
  {
   "cell_type": "code",
   "execution_count": null,
   "metadata": {
    "slideshow": {
     "slide_type": "subslide"
    }
   },
   "outputs": [],
   "source": [
    "let m = Matrix {values: vec![1,2,3,4,5,6,7,8,9], row_size: 3};\n",
    "m"
   ]
  },
  {
   "cell_type": "markdown",
   "metadata": {
    "slideshow": {
     "slide_type": "slide"
    }
   },
   "source": [
    "## Simulation Examples\n",
    "\n",
    "* PID(-T1) Controller\n",
    "* Ramp with jerk, acceleration, speed limits"
   ]
  },
  {
   "cell_type": "markdown",
   "metadata": {
    "slideshow": {
     "slide_type": "slide"
    }
   },
   "source": [
    "# Closing Remarks\n",
    "\n",
    "Rust kernel versus Python kernel with pandas comparison (on big data):\n",
    " * https://able.bio/haixuanTao/data-manipulation-pandas-vs-rust--1d70e7fc\n",
    " * rust more complex to read; is significantly faster; requires less memory\n",
    "   \n",
    "Input:\n",
    " * Python wins with ipywidgets\n",
    " \n",
    "output:\n",
    " * Python wins with bokeh"
   ]
  },
  {
   "cell_type": "markdown",
   "metadata": {
    "slideshow": {
     "slide_type": "slide"
    }
   },
   "source": [
    "\n",
    "Explore this repo:\n",
    "    https://github.com/almedso/jupyter-rust\n",
    "\n",
    "Run in binder:\n",
    "    https://mybinder.org/v2/gh/almedso/jupyter-rust/HEAD?filepath=jupyter-and-rust-meetup.ipynb\n",
    "    "
   ]
  }
 ],
 "metadata": {
  "celltoolbar": "Slideshow",
  "kernelspec": {
   "display_name": "Rust",
   "language": "rust",
   "name": "rust"
  },
  "language_info": {
   "codemirror_mode": "rust",
   "file_extension": ".rs",
   "mimetype": "text/rust",
   "name": "Rust",
   "pygment_lexer": "rust",
   "version": ""
  },
  "rise": {
   "autolaunch": true
  }
 },
 "nbformat": 4,
 "nbformat_minor": 4
}
