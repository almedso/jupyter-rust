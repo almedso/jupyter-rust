{
 "cells": [
  {
   "cell_type": "markdown",
   "metadata": {},
   "source": [
    "# Understand Rust Kernel in Jupyter\n",
    "\n",
    "This notebook is to explore and understand capabilities of using a rust kernel **evcxr**.\n",
    "\n",
    "\n",
    "## Installation\n",
    "\n",
    "Installation is covered in README.md\n",
    "\n",
    "\n",
    "## Evcxr Jupyter Kernel Documentation references\n",
    "\n",
    "Here is explained what is supported and what not:\n",
    "\n",
    "https://github.com/google/evcxr/blob/master/COMMON.md\n",
    "\n",
    "As a short summary:\n",
    "```\n",
    ":help - to get help\n",
    ":dep - install cargo dependencies\n",
    ":sccache 1 - use caching (precompiled stuff)\n",
    ":vars - print present variables\n",
    "```"
   ]
  },
  {
   "cell_type": "markdown",
   "metadata": {},
   "source": [
    "## General\n",
    "\n",
    "Show how it works in principle"
   ]
  },
  {
   "cell_type": "markdown",
   "metadata": {},
   "source": [
    "## Caching\n",
    "\n",
    "How to speed up evaluation"
   ]
  },
  {
   "cell_type": "markdown",
   "metadata": {},
   "source": [
    "## Vars\n",
    "\n",
    "Show and serialized\n",
    "No futures"
   ]
  },
  {
   "cell_type": "markdown",
   "metadata": {},
   "source": [
    "## Output\n",
    "\n",
    "Write your own output"
   ]
  },
  {
   "cell_type": "markdown",
   "metadata": {},
   "source": [
    "## Input\n",
    "\n",
    "How to request user entered data"
   ]
  },
  {
   "cell_type": "code",
   "execution_count": null,
   "metadata": {},
   "outputs": [],
   "source": []
  }
 ],
 "metadata": {
  "kernelspec": {
   "display_name": "Rust",
   "language": "rust",
   "name": "rust"
  },
  "language_info": {
   "codemirror_mode": "rust",
   "file_extension": ".rs",
   "mimetype": "text/rust",
   "name": "Rust",
   "pygment_lexer": "rust",
   "version": ""
  }
 },
 "nbformat": 4,
 "nbformat_minor": 4
}
